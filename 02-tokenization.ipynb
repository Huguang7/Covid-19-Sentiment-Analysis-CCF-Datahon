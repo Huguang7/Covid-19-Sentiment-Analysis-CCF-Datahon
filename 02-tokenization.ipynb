{
 "cells": [
  {
   "cell_type": "markdown",
   "metadata": {},
   "source": [
    "# **Covid-19 Sentiment Analysis - Part II**\n",
    "This part contains the word tokenizaiton and cleaning process"
   ]
  },
  {
   "cell_type": "code",
   "execution_count": 1,
   "metadata": {},
   "outputs": [],
   "source": [
    "import pandas as pd\n",
    "import thulac\n",
    "import seaborn as sns\n",
    "import matplotlib.pyplot as plt\n",
    "\n",
    "myfile = './train_df.csv'\n",
    "with open(myfile,'r', errors = 'ignore') as f:\n",
    "    raw_data = pd.read_csv(f,)\n",
    "    \n",
    "# raw_data = raw_data.rename(columns={\"微博id\": \"ID\", \"微博发布时间\": \"time\", '发布人账号':'user','微博中文内容':'content',\n",
    "#                         '微博图片':'pic', '微博视频':'video','情感倾向':'sentiment'})"
   ]
  },
  {
   "cell_type": "code",
   "execution_count": 2,
   "metadata": {},
   "outputs": [],
   "source": [
    "df = raw_data.copy()"
   ]
  },
  {
   "cell_type": "markdown",
   "metadata": {},
   "source": [
    "## 1. Word Tokenization"
   ]
  },
  {
   "cell_type": "code",
   "execution_count": 3,
   "metadata": {},
   "outputs": [
    {
     "name": "stdout",
     "output_type": "stream",
     "text": [
      "Model loaded succeed\n"
     ]
    },
    {
     "data": {
      "text/html": [
       "<div>\n",
       "<style scoped>\n",
       "    .dataframe tbody tr th:only-of-type {\n",
       "        vertical-align: middle;\n",
       "    }\n",
       "\n",
       "    .dataframe tbody tr th {\n",
       "        vertical-align: top;\n",
       "    }\n",
       "\n",
       "    .dataframe thead th {\n",
       "        text-align: right;\n",
       "    }\n",
       "</style>\n",
       "<table border=\"1\" class=\"dataframe\">\n",
       "  <thead>\n",
       "    <tr style=\"text-align: right;\">\n",
       "      <th></th>\n",
       "      <th>Unnamed: 0</th>\n",
       "      <th>user_id</th>\n",
       "      <th>time</th>\n",
       "      <th>content</th>\n",
       "      <th>photo</th>\n",
       "      <th>video</th>\n",
       "      <th>sentiment</th>\n",
       "    </tr>\n",
       "  </thead>\n",
       "  <tbody>\n",
       "    <tr>\n",
       "      <th>0</th>\n",
       "      <td>0</td>\n",
       "      <td>4456072029125500</td>\n",
       "      <td>2020-01-01 23:50:00</td>\n",
       "      <td>写 在 年末 冬初 孩子 流感 的 第五 天 ， 我们 仍然 没有 忘记 热情 拥抱 这 2...</td>\n",
       "      <td>1</td>\n",
       "      <td>0</td>\n",
       "      <td>0</td>\n",
       "    </tr>\n",
       "    <tr>\n",
       "      <th>1</th>\n",
       "      <td>1</td>\n",
       "      <td>4456074167480980</td>\n",
       "      <td>2020-01-01 23:58:00</td>\n",
       "      <td>开 年 大模型 … 累 到 以为 自己 发烧 了 腰 疼 膝盖 疼 腿 疼 胳膊 疼 脖子 ...</td>\n",
       "      <td>0</td>\n",
       "      <td>0</td>\n",
       "      <td>-1</td>\n",
       "    </tr>\n",
       "    <tr>\n",
       "      <th>2</th>\n",
       "      <td>2</td>\n",
       "      <td>4456054253264520</td>\n",
       "      <td>2020-01-01 22:39:00</td>\n",
       "      <td> 邱晨 这 就 是 我 爹 ， 爹 ， 发烧 快 好 ， 毕竟 美好 的 假期 拿 来 养...</td>\n",
       "      <td>1</td>\n",
       "      <td>0</td>\n",
       "      <td>1</td>\n",
       "    </tr>\n",
       "    <tr>\n",
       "      <th>3</th>\n",
       "      <td>3</td>\n",
       "      <td>4456061509126470</td>\n",
       "      <td>2020-01-01 23:08:00</td>\n",
       "      <td>新年 的 第一 天 感冒 又 发烧 的 也 太 衰 了 但是 我 要 想 着 明天 一定 会...</td>\n",
       "      <td>1</td>\n",
       "      <td>0</td>\n",
       "      <td>1</td>\n",
       "    </tr>\n",
       "    <tr>\n",
       "      <th>4</th>\n",
       "      <td>4</td>\n",
       "      <td>4455979322528190</td>\n",
       "      <td>2020-01-01 17:42:00</td>\n",
       "      <td>问 ： 我们 意念 里 有 坏 的 想法 了 ， 天神 就 会 给 记 下 来 ， 那 如果...</td>\n",
       "      <td>0</td>\n",
       "      <td>0</td>\n",
       "      <td>1</td>\n",
       "    </tr>\n",
       "    <tr>\n",
       "      <th>5</th>\n",
       "      <td>5</td>\n",
       "      <td>4455960703574270</td>\n",
       "      <td>2020-01-01 16:28:00</td>\n",
       "      <td>发高烧 反反复复 ， 眼睛 都 快 睁 不 开 了 。 今天 室友 带 我 去 看 ， 还 ...</td>\n",
       "      <td>1</td>\n",
       "      <td>0</td>\n",
       "      <td>-1</td>\n",
       "    </tr>\n",
       "    <tr>\n",
       "      <th>6</th>\n",
       "      <td>6</td>\n",
       "      <td>4456044141311370</td>\n",
       "      <td>2020-01-01 21:59:00</td>\n",
       "      <td>明天 考试 今天 发烧 跨年 给 我 跨 坏 了 ？ ？ 2 兰州 · 兰州 交通 大学 ?</td>\n",
       "      <td>0</td>\n",
       "      <td>0</td>\n",
       "      <td>-1</td>\n",
       "    </tr>\n",
       "    <tr>\n",
       "      <th>7</th>\n",
       "      <td>7</td>\n",
       "      <td>4456072930597380</td>\n",
       "      <td>2020-01-01 23:53:00</td>\n",
       "      <td># 元旦 快乐 # # 枇杷 手法 小结 # 每个 娃 都 是 有 故事 的 娃 。 每个 ...</td>\n",
       "      <td>1</td>\n",
       "      <td>0</td>\n",
       "      <td>0</td>\n",
       "    </tr>\n",
       "    <tr>\n",
       "      <th>8</th>\n",
       "      <td>8</td>\n",
       "      <td>4456059546766320</td>\n",
       "      <td>2020-01-01 23:00:00</td>\n",
       "      <td>我 真 的 服 了 xkh 昨天 vv 去 和 她 说 自己 不 舒服 ， 描述 了 症状 ...</td>\n",
       "      <td>0</td>\n",
       "      <td>0</td>\n",
       "      <td>-1</td>\n",
       "    </tr>\n",
       "    <tr>\n",
       "      <th>9</th>\n",
       "      <td>9</td>\n",
       "      <td>4456064361730200</td>\n",
       "      <td>2020-01-01 23:19:00</td>\n",
       "      <td>新年 第一 天 ， 为 自己 鼓掌 ? ? ? ? ? ? 发烧 了 也 要 来 看 线 下...</td>\n",
       "      <td>1</td>\n",
       "      <td>0</td>\n",
       "      <td>1</td>\n",
       "    </tr>\n",
       "  </tbody>\n",
       "</table>\n",
       "</div>"
      ],
      "text/plain": [
       "   Unnamed: 0           user_id                 time  \\\n",
       "0           0  4456072029125500  2020-01-01 23:50:00   \n",
       "1           1  4456074167480980  2020-01-01 23:58:00   \n",
       "2           2  4456054253264520  2020-01-01 22:39:00   \n",
       "3           3  4456061509126470  2020-01-01 23:08:00   \n",
       "4           4  4455979322528190  2020-01-01 17:42:00   \n",
       "5           5  4455960703574270  2020-01-01 16:28:00   \n",
       "6           6  4456044141311370  2020-01-01 21:59:00   \n",
       "7           7  4456072930597380  2020-01-01 23:53:00   \n",
       "8           8  4456059546766320  2020-01-01 23:00:00   \n",
       "9           9  4456064361730200  2020-01-01 23:19:00   \n",
       "\n",
       "                                             content  photo  video  sentiment  \n",
       "0  写 在 年末 冬初 孩子 流感 的 第五 天 ， 我们 仍然 没有 忘记 热情 拥抱 这 2...      1      0          0  \n",
       "1  开 年 大模型 … 累 到 以为 自己 发烧 了 腰 疼 膝盖 疼 腿 疼 胳膊 疼 脖子 ...      0      0         -1  \n",
       "2   邱晨 这 就 是 我 爹 ， 爹 ， 发烧 快 好 ， 毕竟 美好 的 假期 拿 来 养...      1      0          1  \n",
       "3  新年 的 第一 天 感冒 又 发烧 的 也 太 衰 了 但是 我 要 想 着 明天 一定 会...      1      0          1  \n",
       "4  问 ： 我们 意念 里 有 坏 的 想法 了 ， 天神 就 会 给 记 下 来 ， 那 如果...      0      0          1  \n",
       "5  发高烧 反反复复 ， 眼睛 都 快 睁 不 开 了 。 今天 室友 带 我 去 看 ， 还 ...      1      0         -1  \n",
       "6     明天 考试 今天 发烧 跨年 给 我 跨 坏 了 ？ ？ 2 兰州 · 兰州 交通 大学 ?      0      0         -1  \n",
       "7  # 元旦 快乐 # # 枇杷 手法 小结 # 每个 娃 都 是 有 故事 的 娃 。 每个 ...      1      0          0  \n",
       "8  我 真 的 服 了 xkh 昨天 vv 去 和 她 说 自己 不 舒服 ， 描述 了 症状 ...      0      0         -1  \n",
       "9  新年 第一 天 ， 为 自己 鼓掌 ? ? ? ? ? ? 发烧 了 也 要 来 看 线 下...      1      0          1  "
      ]
     },
     "execution_count": 3,
     "metadata": {},
     "output_type": "execute_result"
    }
   ],
   "source": [
    "# tokenize by http://thulac.thunlp.org/\n",
    "\n",
    "thul = thulac.thulac(seg_only=True)  # by default\n",
    "\n",
    "df['content'] = df['content'].astype(str).apply(lambda x : thul.cut(x,text = True))\n",
    "#text = thu1.cut(df0.content[0], text=True)  #进行一句话分词\n",
    "#print(text)\n",
    "df.head(10)"
   ]
  },
  {
   "cell_type": "markdown",
   "metadata": {},
   "source": [
    "## 2.Remove symbols and non-Chinese"
   ]
  },
  {
   "cell_type": "code",
   "execution_count": 4,
   "metadata": {},
   "outputs": [
    {
     "data": {
      "text/plain": [
       "'写 在 年末 冬初 孩子 流感 的 第五 天 ， 我们 仍然 没有 忘记 热情 拥抱 这 2020 年 的 第一 天 。 带 着 一 丝 迷信 ， 早晨 给 孩子 穿 上 红色 的 羽绒服 羽绒裤 ， 祈祷 新 的 一 年 ， 孩子 们 身体 康健 。 仍然 会 有 一 丝 焦虑 ， 焦虑 我 的 孩子 为什 么 会 过早 的 懂事 ， 从 两 岁 多 开始 关注 我 的 情绪 ， 会 深沉 地 说 ： 妈妈 ， 你 终于 笑 了 ！ 这 句 话 像 刀子 一样 扎 入 我 ? 展开 全文 c'"
      ]
     },
     "execution_count": 4,
     "metadata": {},
     "output_type": "execute_result"
    }
   ],
   "source": [
    "df.content[0]"
   ]
  },
  {
   "cell_type": "code",
   "execution_count": 5,
   "metadata": {},
   "outputs": [],
   "source": [
    "import regex as re\n",
    "# remove symbol, number and letter\n",
    "symbols = \"[a-zA-Z0-9\\s+\\.\\!\\/_,$%^*()??;；：【】+\\\"\\'\\[\\]\\\\]+|[+——！，;:。？《》、~@#￥%……&*（）“”.=-]+\"\n",
    "df['content'] = df['content'].astype(str).apply(lambda x : re.sub(symbols, ' ', x))\n",
    "\n",
    "#pre-cleaning, deleting or filtering unnecessary words like 'show more'\n",
    "df['content'] = df['content'].astype(str).apply(lambda x : x.replace(\"展开全文\", \"\"))"
   ]
  },
  {
   "cell_type": "code",
   "execution_count": 6,
   "metadata": {},
   "outputs": [
    {
     "data": {
      "text/html": [
       "<div>\n",
       "<style scoped>\n",
       "    .dataframe tbody tr th:only-of-type {\n",
       "        vertical-align: middle;\n",
       "    }\n",
       "\n",
       "    .dataframe tbody tr th {\n",
       "        vertical-align: top;\n",
       "    }\n",
       "\n",
       "    .dataframe thead th {\n",
       "        text-align: right;\n",
       "    }\n",
       "</style>\n",
       "<table border=\"1\" class=\"dataframe\">\n",
       "  <thead>\n",
       "    <tr style=\"text-align: right;\">\n",
       "      <th></th>\n",
       "      <th>Unnamed: 0</th>\n",
       "      <th>user_id</th>\n",
       "      <th>time</th>\n",
       "      <th>content</th>\n",
       "      <th>photo</th>\n",
       "      <th>video</th>\n",
       "      <th>sentiment</th>\n",
       "    </tr>\n",
       "  </thead>\n",
       "  <tbody>\n",
       "    <tr>\n",
       "      <th>0</th>\n",
       "      <td>0</td>\n",
       "      <td>4456072029125500</td>\n",
       "      <td>2020-01-01 23:50:00</td>\n",
       "      <td>写 在 年末 冬初 孩子 流感 的 第五 天 我们 仍然 没有 忘记 热情 拥抱 这 年 的...</td>\n",
       "      <td>1</td>\n",
       "      <td>0</td>\n",
       "      <td>0</td>\n",
       "    </tr>\n",
       "    <tr>\n",
       "      <th>1</th>\n",
       "      <td>1</td>\n",
       "      <td>4456074167480980</td>\n",
       "      <td>2020-01-01 23:58:00</td>\n",
       "      <td>开 年 大模型 累 到 以为 自己 发烧 了 腰 疼 膝盖 疼 腿 疼 胳膊 疼 脖子 疼 的</td>\n",
       "      <td>0</td>\n",
       "      <td>0</td>\n",
       "      <td>-1</td>\n",
       "    </tr>\n",
       "    <tr>\n",
       "      <th>2</th>\n",
       "      <td>2</td>\n",
       "      <td>4456054253264520</td>\n",
       "      <td>2020-01-01 22:39:00</td>\n",
       "      <td> 邱晨 这 就 是 我 爹 爹 发烧 快 好 毕竟 美好 的 假期 拿 来 养 病 不 太...</td>\n",
       "      <td>1</td>\n",
       "      <td>0</td>\n",
       "      <td>1</td>\n",
       "    </tr>\n",
       "    <tr>\n",
       "      <th>3</th>\n",
       "      <td>3</td>\n",
       "      <td>4456061509126470</td>\n",
       "      <td>2020-01-01 23:08:00</td>\n",
       "      <td>新年 的 第一 天 感冒 又 发烧 的 也 太 衰 了 但是 我 要 想 着 明天 一定 会...</td>\n",
       "      <td>1</td>\n",
       "      <td>0</td>\n",
       "      <td>1</td>\n",
       "    </tr>\n",
       "    <tr>\n",
       "      <th>4</th>\n",
       "      <td>4</td>\n",
       "      <td>4455979322528190</td>\n",
       "      <td>2020-01-01 17:42:00</td>\n",
       "      <td>问 我们 意念 里 有 坏 的 想法 了 天神 就 会 给 记 下 来 那 如果 有 好 的...</td>\n",
       "      <td>0</td>\n",
       "      <td>0</td>\n",
       "      <td>1</td>\n",
       "    </tr>\n",
       "  </tbody>\n",
       "</table>\n",
       "</div>"
      ],
      "text/plain": [
       "   Unnamed: 0           user_id                 time  \\\n",
       "0           0  4456072029125500  2020-01-01 23:50:00   \n",
       "1           1  4456074167480980  2020-01-01 23:58:00   \n",
       "2           2  4456054253264520  2020-01-01 22:39:00   \n",
       "3           3  4456061509126470  2020-01-01 23:08:00   \n",
       "4           4  4455979322528190  2020-01-01 17:42:00   \n",
       "\n",
       "                                             content  photo  video  sentiment  \n",
       "0  写 在 年末 冬初 孩子 流感 的 第五 天 我们 仍然 没有 忘记 热情 拥抱 这 年 的...      1      0          0  \n",
       "1   开 年 大模型 累 到 以为 自己 发烧 了 腰 疼 膝盖 疼 腿 疼 胳膊 疼 脖子 疼 的       0      0         -1  \n",
       "2   邱晨 这 就 是 我 爹 爹 发烧 快 好 毕竟 美好 的 假期 拿 来 养 病 不 太...      1      0          1  \n",
       "3  新年 的 第一 天 感冒 又 发烧 的 也 太 衰 了 但是 我 要 想 着 明天 一定 会...      1      0          1  \n",
       "4  问 我们 意念 里 有 坏 的 想法 了 天神 就 会 给 记 下 来 那 如果 有 好 的...      0      0          1  "
      ]
     },
     "execution_count": 6,
     "metadata": {},
     "output_type": "execute_result"
    }
   ],
   "source": [
    "df.head()"
   ]
  },
  {
   "cell_type": "code",
   "execution_count": 7,
   "metadata": {},
   "outputs": [
    {
     "data": {
      "text/plain": [
       "'写 在 年末 冬初 孩子 流感 的 第五 天 我们 仍然 没有 忘记 热情 拥抱 这 年 的 第一 天 带 着 一 丝 迷信 早晨 给 孩子 穿 上 红色 的 羽绒服 羽绒裤 祈祷 新 的 一 年 孩子 们 身体 康健 仍然 会 有 一 丝 焦虑 焦虑 我 的 孩子 为什 么 会 过早 的 懂事 从 两 岁 多 开始 关注 我 的 情绪 会 深沉 地 说 妈妈 你 终于 笑 了 这 句 话 像 刀子 一样 扎 入 我 展开 全文 '"
      ]
     },
     "execution_count": 7,
     "metadata": {},
     "output_type": "execute_result"
    }
   ],
   "source": [
    "df.content[0]"
   ]
  },
  {
   "cell_type": "markdown",
   "metadata": {},
   "source": [
    "## 3. Constraint content length \n",
    "According to density plot, we only keep contents <= 150 words"
   ]
  },
  {
   "cell_type": "code",
   "execution_count": 8,
   "metadata": {},
   "outputs": [
    {
     "data": {
      "image/png": "[encoded data removed]",
      "text/plain": [
       "<Figure size 432x288 with 1 Axes>"
      ]
     },
     "metadata": {
      "needs_background": "light"
     },
     "output_type": "display_data"
    }
   ],
   "source": [
    "df['weibo_len'] = df['content'].astype(str).apply(len)\n",
    "sns.kdeplot(df['weibo_len'])\n",
    "plt.title('weibo_len')\n",
    "plt.show()"
   ]
  },
  {
   "cell_type": "code",
   "execution_count": 9,
   "metadata": {},
   "outputs": [
    {
     "data": {
      "text/plain": [
       "(99907, 8)"
      ]
     },
     "execution_count": 9,
     "metadata": {},
     "output_type": "execute_result"
    }
   ],
   "source": [
    "df.shape"
   ]
  },
  {
   "cell_type": "code",
   "execution_count": 10,
   "metadata": {},
   "outputs": [
    {
     "data": {
      "text/plain": [
       "(63848, 8)"
      ]
     },
     "execution_count": 10,
     "metadata": {},
     "output_type": "execute_result"
    }
   ],
   "source": [
    "df = df[df.weibo_len<=150]\n",
    "df.shape"
   ]
  },
  {
   "cell_type": "markdown",
   "metadata": {},
   "source": [
    "## 4. Remove meaningfulless words\n",
    "Import word list and filter word lists during the count vectorizer part\n",
    "e.g. stopwords, adverbs..."
   ]
  },
  {
   "cell_type": "code",
   "execution_count": 11,
   "metadata": {},
   "outputs": [
    {
     "data": {
      "text/plain": [
       "(1893, 1)"
      ]
     },
     "execution_count": 11,
     "metadata": {},
     "output_type": "execute_result"
    }
   ],
   "source": [
    "import csv\n",
    "myfile = './mystopwords.csv'\n",
    "\n",
    "stopwords = pd.read_csv(myfile, delimiter='\\n', header=None, encoding='utf-8', quoting=csv.QUOTE_NONE)\n",
    "stopwords.shape"
   ]
  },
  {
   "cell_type": "code",
   "execution_count": 12,
   "metadata": {},
   "outputs": [],
   "source": [
    "# from sklearn.feature_extraction import CountVectorizer\n",
    "\n",
    "# count_vect = CountVectorizer(analyzer='word', stop_word = stopwords)\n",
    "# count_vect.fit(df['content'])\n",
    "# xtrain_count =  count_vect.transform(train_df['text_cut'])"
   ]
  }
 ],
 "metadata": {
  "kernelspec": {
   "display_name": "Python 3",
   "language": "python",
   "name": "python3"
  },
  "language_info": {
   "codemirror_mode": {
    "name": "ipython",
    "version": 3
   },
   "file_extension": ".py",
   "mimetype": "text/x-python",
   "name": "python",
   "nbconvert_exporter": "python",
   "pygments_lexer": "ipython3",
   "version": "3.7.6"
  }
 },
 "nbformat": 4,
 "nbformat_minor": 4
}
