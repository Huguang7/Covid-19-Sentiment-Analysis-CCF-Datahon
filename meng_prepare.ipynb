{
 "cells": [
  {
   "cell_type": "code",
   "execution_count": 27,
   "metadata": {},
   "outputs": [],
   "source": [
    "import pandas as pd\n",
    "import thulac\n",
    "import seaborn as sns"
   ]
  },
  {
   "cell_type": "code",
   "execution_count": 2,
   "metadata": {},
   "outputs": [],
   "source": [
    "myfile = '/Users/zhangmeng/Desktop/study/ESCP_SEP/NLP/sentiment/train_ dataset/labled.csv'\n",
    "with open(myfile,'r',encoding = 'GB18030', errors = 'ignore') as f:\n",
    "    raw_data = pd.read_csv(f)"
   ]
  },
  {
   "cell_type": "code",
   "execution_count": 3,
   "metadata": {},
   "outputs": [],
   "source": [
    "raw_data = raw_data.rename(columns={\"微博id\": \"ID\", \"微博发布时间\": \"time\", '发布人账号':'user','微博中文内容':'content',\n",
    "                        '微博图片':'pic', '微博视频':'video','情感倾向':'sentiment'})"
   ]
  },
  {
   "cell_type": "code",
   "execution_count": 4,
   "metadata": {},
   "outputs": [],
   "source": [
    "df0 = raw_data\n",
    "df0 = df0.drop(columns=['time','user','pic', 'video'])"
   ]
  },
  {
   "cell_type": "code",
   "execution_count": 5,
   "metadata": {},
   "outputs": [],
   "source": [
    "#pre-cleaning, deleting or filtering unnecessary words like 'show more'\n",
    "df0['content'] = df0['content'].astype(str).apply(lambda x : x.replace(\"展开全文\", \"\"))"
   ]
  },
  {
   "cell_type": "code",
   "execution_count": 6,
   "metadata": {},
   "outputs": [
    {
     "name": "stdout",
     "output_type": "stream",
     "text": [
      "写在年末冬初孩子流感的第五天，我们仍然没有忘记热情拥抱这2020年的第一天。带着一丝迷信，早晨给孩子穿上红色的羽绒服羽绒裤，祈祷新的一年，孩子们身体康健。仍然会有一丝焦虑，焦虑我的孩子为什么会过早的懂事，从两岁多开始关注我的情绪，会深沉地说：妈妈，你终于笑了！这句话像刀子一样扎入我?c\n"
     ]
    }
   ],
   "source": [
    "print(df0.content[0])"
   ]
  },
  {
   "cell_type": "code",
   "execution_count": 15,
   "metadata": {},
   "outputs": [
    {
     "name": "stdout",
     "output_type": "stream",
     "text": [
      "Model loaded succeed\n"
     ]
    },
    {
     "data": {
      "text/html": [
       "<div>\n",
       "<style scoped>\n",
       "    .dataframe tbody tr th:only-of-type {\n",
       "        vertical-align: middle;\n",
       "    }\n",
       "\n",
       "    .dataframe tbody tr th {\n",
       "        vertical-align: top;\n",
       "    }\n",
       "\n",
       "    .dataframe thead th {\n",
       "        text-align: right;\n",
       "    }\n",
       "</style>\n",
       "<table border=\"1\" class=\"dataframe\">\n",
       "  <thead>\n",
       "    <tr style=\"text-align: right;\">\n",
       "      <th></th>\n",
       "      <th>ID</th>\n",
       "      <th>content</th>\n",
       "      <th>sentiment</th>\n",
       "    </tr>\n",
       "  </thead>\n",
       "  <tbody>\n",
       "    <tr>\n",
       "      <th>0</th>\n",
       "      <td>4456072029125500</td>\n",
       "      <td>写 在 年末 冬 初 孩子 流感 的 第五 天 ， 我们 仍然 没有 忘记 热情 拥抱 这 ...</td>\n",
       "      <td>0</td>\n",
       "    </tr>\n",
       "    <tr>\n",
       "      <th>1</th>\n",
       "      <td>4456074167480980</td>\n",
       "      <td>开 年 大模型 … 累 到 以为 自己 发烧 了 腰 疼 膝盖 疼 腿 疼 胳膊 疼 脖子 ...</td>\n",
       "      <td>-1</td>\n",
       "    </tr>\n",
       "    <tr>\n",
       "      <th>2</th>\n",
       "      <td>4456054253264520</td>\n",
       "      <td> 邱晨 这 就 是 我 爹 ， 爹 ， 发烧 快 好 ， 毕竟 美好 的 假期 拿 来 养...</td>\n",
       "      <td>1</td>\n",
       "    </tr>\n",
       "    <tr>\n",
       "      <th>3</th>\n",
       "      <td>4456061509126470</td>\n",
       "      <td>新年 的 第一 天 感冒 又 发烧 的 也 太 衰 了 但是 我 要 想 着 明天 一定 会...</td>\n",
       "      <td>1</td>\n",
       "    </tr>\n",
       "    <tr>\n",
       "      <th>4</th>\n",
       "      <td>4455979322528190</td>\n",
       "      <td>问 ： 我们 意念 里 有 坏 的 想法 了 ， 天神 就 会 给 记 下 来 ， 那 如果...</td>\n",
       "      <td>1</td>\n",
       "    </tr>\n",
       "    <tr>\n",
       "      <th>5</th>\n",
       "      <td>4455960703574270</td>\n",
       "      <td>发高烧 反反复复 ， 眼睛 都 快 睁 不 开 了 。 今天 室友 带 我 去 看 ， 还 ...</td>\n",
       "      <td>-1</td>\n",
       "    </tr>\n",
       "    <tr>\n",
       "      <th>6</th>\n",
       "      <td>4456044141311370</td>\n",
       "      <td>明天 考试 今天 发烧 跨年 给 我 跨 坏 了 ？ ？ 2 兰州 · 兰州 交通 大学 ?</td>\n",
       "      <td>-1</td>\n",
       "    </tr>\n",
       "    <tr>\n",
       "      <th>7</th>\n",
       "      <td>4456072930597380</td>\n",
       "      <td># 元旦 快乐 # # 枇杷 手法 小结 # 每个 娃 都 是 有 故事 的 娃 。 每个 ...</td>\n",
       "      <td>0</td>\n",
       "    </tr>\n",
       "    <tr>\n",
       "      <th>8</th>\n",
       "      <td>4456059546766320</td>\n",
       "      <td>我 真 的 服 了 x kh 昨天 vv 去 和 她 说 自己 不 舒服 ， 描述 了 症状...</td>\n",
       "      <td>-1</td>\n",
       "    </tr>\n",
       "    <tr>\n",
       "      <th>9</th>\n",
       "      <td>4456064361730200</td>\n",
       "      <td>新年 第一 天 ， 为 自己 鼓掌 ? ? ? ? ? ? 发烧 了 也 要 来 看 线 下...</td>\n",
       "      <td>1</td>\n",
       "    </tr>\n",
       "  </tbody>\n",
       "</table>\n",
       "</div>"
      ],
      "text/plain": [
       "                 ID                                            content  \\\n",
       "0  4456072029125500  写 在 年末 冬 初 孩子 流感 的 第五 天 ， 我们 仍然 没有 忘记 热情 拥抱 这 ...   \n",
       "1  4456074167480980  开 年 大模型 … 累 到 以为 自己 发烧 了 腰 疼 膝盖 疼 腿 疼 胳膊 疼 脖子 ...   \n",
       "2  4456054253264520   邱晨 这 就 是 我 爹 ， 爹 ， 发烧 快 好 ， 毕竟 美好 的 假期 拿 来 养...   \n",
       "3  4456061509126470  新年 的 第一 天 感冒 又 发烧 的 也 太 衰 了 但是 我 要 想 着 明天 一定 会...   \n",
       "4  4455979322528190  问 ： 我们 意念 里 有 坏 的 想法 了 ， 天神 就 会 给 记 下 来 ， 那 如果...   \n",
       "5  4455960703574270  发高烧 反反复复 ， 眼睛 都 快 睁 不 开 了 。 今天 室友 带 我 去 看 ， 还 ...   \n",
       "6  4456044141311370     明天 考试 今天 发烧 跨年 给 我 跨 坏 了 ？ ？ 2 兰州 · 兰州 交通 大学 ?   \n",
       "7  4456072930597380  # 元旦 快乐 # # 枇杷 手法 小结 # 每个 娃 都 是 有 故事 的 娃 。 每个 ...   \n",
       "8  4456059546766320  我 真 的 服 了 x kh 昨天 vv 去 和 她 说 自己 不 舒服 ， 描述 了 症状...   \n",
       "9  4456064361730200  新年 第一 天 ， 为 自己 鼓掌 ? ? ? ? ? ? 发烧 了 也 要 来 看 线 下...   \n",
       "\n",
       "  sentiment  \n",
       "0         0  \n",
       "1        -1  \n",
       "2         1  \n",
       "3         1  \n",
       "4         1  \n",
       "5        -1  \n",
       "6        -1  \n",
       "7         0  \n",
       "8        -1  \n",
       "9         1  "
      ]
     },
     "execution_count": 15,
     "metadata": {},
     "output_type": "execute_result"
    }
   ],
   "source": [
    "thu1 = thulac.thulac(seg_only=True)  #默认模式\n",
    "df1 = df0\n",
    "df1['content'] = df1['content'].astype(str).apply(lambda x : thu1.cut(x,text = True))\n",
    "#text = thu1.cut(df0.content[0], text=True)  #进行一句话分词\n",
    "#print(text)\n",
    "df1.head(10)"
   ]
  },
  {
   "cell_type": "code",
   "execution_count": 8,
   "metadata": {},
   "outputs": [
    {
     "name": "stdout",
     "output_type": "stream",
     "text": [
      "3.5.4\n"
     ]
    }
   ],
   "source": [
    "from platform import python_version\n",
    "\n",
    "print(python_version())"
   ]
  },
  {
   "cell_type": "code",
   "execution_count": 17,
   "metadata": {},
   "outputs": [
    {
     "data": {
      "text/plain": [
       "Text(0.5,1,'sentiment(target)')"
      ]
     },
     "execution_count": 17,
     "metadata": {},
     "output_type": "execute_result"
    },
    {
     "data": {
      "image/png": "[encoded data removed]",
      "text/plain": [
       "<Figure size 432x288 with 1 Axes>"
      ]
     },
     "metadata": {
      "needs_background": "light"
     },
     "output_type": "display_data"
    }
   ],
   "source": [
    "import matplotlib.pyplot as plt\n",
    "df1.sentiment.value_counts().plot.bar()\n",
    "plt.title('sentiment(target)')"
   ]
  },
  {
   "cell_type": "code",
   "execution_count": 20,
   "metadata": {},
   "outputs": [],
   "source": [
    "df1 = df1[df1['sentiment'].isin(['0','1','-1'])]"
   ]
  },
  {
   "cell_type": "code",
   "execution_count": 26,
   "metadata": {},
   "outputs": [
    {
     "name": "stderr",
     "output_type": "stream",
     "text": [
      "/Library/Frameworks/Python.framework/Versions/3.5/lib/python3.5/site-packages/ipykernel_launcher.py:1: SettingWithCopyWarning: \n",
      "A value is trying to be set on a copy of a slice from a DataFrame.\n",
      "Try using .loc[row_indexer,col_indexer] = value instead\n",
      "\n",
      "See the caveats in the documentation: http://pandas.pydata.org/pandas-docs/stable/indexing.html#indexing-view-versus-copy\n",
      "  \"\"\"Entry point for launching an IPython kernel.\n"
     ]
    },
    {
     "ename": "NameError",
     "evalue": "name 'sns' is not defined",
     "output_type": "error",
     "traceback": [
      "\u001b[0;31m---------------------------------------------------------------------------\u001b[0m",
      "\u001b[0;31mNameError\u001b[0m                                 Traceback (most recent call last)",
      "\u001b[0;32m<ipython-input-26-cbeb731c1bce>\u001b[0m in \u001b[0;36m<module>\u001b[0;34m\u001b[0m\n\u001b[1;32m      1\u001b[0m \u001b[0mdf1\u001b[0m\u001b[0;34m[\u001b[0m\u001b[0;34m'weibo_len'\u001b[0m\u001b[0;34m]\u001b[0m \u001b[0;34m=\u001b[0m \u001b[0mdf1\u001b[0m\u001b[0;34m[\u001b[0m\u001b[0;34m'content'\u001b[0m\u001b[0;34m]\u001b[0m\u001b[0;34m.\u001b[0m\u001b[0mastype\u001b[0m\u001b[0;34m(\u001b[0m\u001b[0mstr\u001b[0m\u001b[0;34m)\u001b[0m\u001b[0;34m.\u001b[0m\u001b[0mapply\u001b[0m\u001b[0;34m(\u001b[0m\u001b[0mlen\u001b[0m\u001b[0;34m)\u001b[0m\u001b[0;34m\u001b[0m\u001b[0m\n\u001b[0;32m----> 2\u001b[0;31m \u001b[0msns\u001b[0m\u001b[0;34m.\u001b[0m\u001b[0mkdeplot\u001b[0m\u001b[0;34m(\u001b[0m\u001b[0mdf1\u001b[0m\u001b[0;34m[\u001b[0m\u001b[0;34m'weibo_len'\u001b[0m\u001b[0;34m]\u001b[0m\u001b[0;34m)\u001b[0m\u001b[0;34m\u001b[0m\u001b[0m\n\u001b[0m\u001b[1;32m      3\u001b[0m \u001b[0mplt\u001b[0m\u001b[0;34m.\u001b[0m\u001b[0mtitle\u001b[0m\u001b[0;34m(\u001b[0m\u001b[0;34m'weibo_len'\u001b[0m\u001b[0;34m)\u001b[0m\u001b[0;34m\u001b[0m\u001b[0m\n",
      "\u001b[0;31mNameError\u001b[0m: name 'sns' is not defined"
     ]
    }
   ],
   "source": [
    "df1['weibo_len'] = df1['content'].astype(str).apply(len)\n",
    "sns.kdeplot(df1['weibo_len'])\n",
    "plt.title('weibo_len')"
   ]
  },
  {
   "cell_type": "code",
   "execution_count": null,
   "metadata": {},
   "outputs": [],
   "source": [
    "count_vect = CountVectorizer(analyzer='word', token_pattern=r'\\w{1,}')\n",
    "count_vect.fit(df1['content'])\n",
    "xtrain_count =  count_vect.transform(train_df['text_cut'])"
   ]
  }
 ],
 "metadata": {
  "kernelspec": {
   "display_name": "py_35_env",
   "language": "python",
   "name": "py_35_env"
  },
  "language_info": {
   "codemirror_mode": {
    "name": "ipython",
    "version": 3
   },
   "file_extension": ".py",
   "mimetype": "text/x-python",
   "name": "python",
   "nbconvert_exporter": "python",
   "pygments_lexer": "ipython3",
   "version": "3.5.4"
  }
 },
 "nbformat": 4,
 "nbformat_minor": 4
}
